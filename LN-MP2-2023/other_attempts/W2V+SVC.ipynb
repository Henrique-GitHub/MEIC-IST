{
  "nbformat": 4,
  "nbformat_minor": 0,
  "metadata": {
    "colab": {
      "provenance": []
    },
    "kernelspec": {
      "name": "python3",
      "display_name": "Python 3"
    },
    "language_info": {
      "name": "python"
    }
  },
  "cells": [
    {
      "cell_type": "code",
      "execution_count": 13,
      "metadata": {
        "colab": {
          "base_uri": "https://localhost:8080/"
        },
        "id": "BqA8F4hf7iTF",
        "outputId": "12f63271-194a-4912-9136-32d4f15f5fac"
      },
      "outputs": [
        {
          "output_type": "stream",
          "name": "stdout",
          "text": [
            "Requirement already satisfied: gensim in /usr/local/lib/python3.10/dist-packages (4.3.2)\n",
            "Requirement already satisfied: numpy>=1.18.5 in /usr/local/lib/python3.10/dist-packages (from gensim) (1.23.5)\n",
            "Requirement already satisfied: scipy>=1.7.0 in /usr/local/lib/python3.10/dist-packages (from gensim) (1.11.3)\n",
            "Requirement already satisfied: smart-open>=1.8.1 in /usr/local/lib/python3.10/dist-packages (from gensim) (6.4.0)\n"
          ]
        },
        {
          "output_type": "stream",
          "name": "stderr",
          "text": [
            "[nltk_data] Downloading package punkt to /root/nltk_data...\n",
            "[nltk_data]   Unzipping tokenizers/punkt.zip.\n"
          ]
        },
        {
          "output_type": "execute_result",
          "data": {
            "text/plain": [
              "True"
            ]
          },
          "metadata": {},
          "execution_count": 13
        }
      ],
      "source": [
        "!pip install gensim\n",
        "import nltk\n",
        "import gensim\n",
        "import numpy as np\n",
        "import pandas as pd\n",
        "from gensim.models import Word2Vec\n",
        "from sklearn.model_selection import train_test_split\n",
        "from sklearn.svm import SVC\n",
        "from sklearn.metrics import accuracy_score, classification_report\n",
        "from nltk.tokenize import word_tokenize\n",
        "nltk.download('punkt')"
      ]
    },
    {
      "cell_type": "code",
      "source": [
        "#Read file\n",
        "df = pd.read_csv(\"./train.txt\", sep=\"\\t\", names=['labels','reviews'])\n",
        "\n",
        "#Separate Reviews and labels\n",
        "reviews = df[\"reviews\"].values.astype('U').tolist()\n",
        "labels = df[\"labels\"].tolist()"
      ],
      "metadata": {
        "id": "Nya0ubmpAcdY"
      },
      "execution_count": 14,
      "outputs": []
    },
    {
      "cell_type": "code",
      "source": [
        "tokenized_data = [word_tokenize(sentence.lower()) for sentence in reviews]"
      ],
      "metadata": {
        "id": "f2xCLAuJE8QC"
      },
      "execution_count": 15,
      "outputs": []
    },
    {
      "cell_type": "code",
      "source": [
        "model = gensim.models.Word2Vec(sentences=tokenized_data, vector_size=100, window=5, min_count=1, sg=0)"
      ],
      "metadata": {
        "id": "EDqMa22SGuJw"
      },
      "execution_count": 16,
      "outputs": []
    },
    {
      "cell_type": "code",
      "source": [
        "X = [np.mean([model.wv[word] for word in sentence if word in model.wv] or [np.zeros(100)], axis=0) for sentence in tokenized_data]"
      ],
      "metadata": {
        "id": "VI769_6LGyMA"
      },
      "execution_count": 18,
      "outputs": []
    },
    {
      "cell_type": "code",
      "source": [
        "X_train, X_test, y_train, y_test = train_test_split(X, labels, test_size=0.2, shuffle = False)"
      ],
      "metadata": {
        "id": "xoDTevIVOGSa"
      },
      "execution_count": 19,
      "outputs": []
    },
    {
      "cell_type": "code",
      "source": [
        "svm_classifier = SVC(kernel='linear', C=1.0)\n",
        "svm_classifier.fit(X_train, y_train)"
      ],
      "metadata": {
        "colab": {
          "base_uri": "https://localhost:8080/",
          "height": 74
        },
        "id": "jxK4htKwOsg_",
        "outputId": "1ff65879-227c-4581-ede0-49462c5d0754"
      },
      "execution_count": 20,
      "outputs": [
        {
          "output_type": "execute_result",
          "data": {
            "text/plain": [
              "SVC(kernel='linear')"
            ],
            "text/html": [
              "<style>#sk-container-id-1 {color: black;background-color: white;}#sk-container-id-1 pre{padding: 0;}#sk-container-id-1 div.sk-toggleable {background-color: white;}#sk-container-id-1 label.sk-toggleable__label {cursor: pointer;display: block;width: 100%;margin-bottom: 0;padding: 0.3em;box-sizing: border-box;text-align: center;}#sk-container-id-1 label.sk-toggleable__label-arrow:before {content: \"▸\";float: left;margin-right: 0.25em;color: #696969;}#sk-container-id-1 label.sk-toggleable__label-arrow:hover:before {color: black;}#sk-container-id-1 div.sk-estimator:hover label.sk-toggleable__label-arrow:before {color: black;}#sk-container-id-1 div.sk-toggleable__content {max-height: 0;max-width: 0;overflow: hidden;text-align: left;background-color: #f0f8ff;}#sk-container-id-1 div.sk-toggleable__content pre {margin: 0.2em;color: black;border-radius: 0.25em;background-color: #f0f8ff;}#sk-container-id-1 input.sk-toggleable__control:checked~div.sk-toggleable__content {max-height: 200px;max-width: 100%;overflow: auto;}#sk-container-id-1 input.sk-toggleable__control:checked~label.sk-toggleable__label-arrow:before {content: \"▾\";}#sk-container-id-1 div.sk-estimator input.sk-toggleable__control:checked~label.sk-toggleable__label {background-color: #d4ebff;}#sk-container-id-1 div.sk-label input.sk-toggleable__control:checked~label.sk-toggleable__label {background-color: #d4ebff;}#sk-container-id-1 input.sk-hidden--visually {border: 0;clip: rect(1px 1px 1px 1px);clip: rect(1px, 1px, 1px, 1px);height: 1px;margin: -1px;overflow: hidden;padding: 0;position: absolute;width: 1px;}#sk-container-id-1 div.sk-estimator {font-family: monospace;background-color: #f0f8ff;border: 1px dotted black;border-radius: 0.25em;box-sizing: border-box;margin-bottom: 0.5em;}#sk-container-id-1 div.sk-estimator:hover {background-color: #d4ebff;}#sk-container-id-1 div.sk-parallel-item::after {content: \"\";width: 100%;border-bottom: 1px solid gray;flex-grow: 1;}#sk-container-id-1 div.sk-label:hover label.sk-toggleable__label {background-color: #d4ebff;}#sk-container-id-1 div.sk-serial::before {content: \"\";position: absolute;border-left: 1px solid gray;box-sizing: border-box;top: 0;bottom: 0;left: 50%;z-index: 0;}#sk-container-id-1 div.sk-serial {display: flex;flex-direction: column;align-items: center;background-color: white;padding-right: 0.2em;padding-left: 0.2em;position: relative;}#sk-container-id-1 div.sk-item {position: relative;z-index: 1;}#sk-container-id-1 div.sk-parallel {display: flex;align-items: stretch;justify-content: center;background-color: white;position: relative;}#sk-container-id-1 div.sk-item::before, #sk-container-id-1 div.sk-parallel-item::before {content: \"\";position: absolute;border-left: 1px solid gray;box-sizing: border-box;top: 0;bottom: 0;left: 50%;z-index: -1;}#sk-container-id-1 div.sk-parallel-item {display: flex;flex-direction: column;z-index: 1;position: relative;background-color: white;}#sk-container-id-1 div.sk-parallel-item:first-child::after {align-self: flex-end;width: 50%;}#sk-container-id-1 div.sk-parallel-item:last-child::after {align-self: flex-start;width: 50%;}#sk-container-id-1 div.sk-parallel-item:only-child::after {width: 0;}#sk-container-id-1 div.sk-dashed-wrapped {border: 1px dashed gray;margin: 0 0.4em 0.5em 0.4em;box-sizing: border-box;padding-bottom: 0.4em;background-color: white;}#sk-container-id-1 div.sk-label label {font-family: monospace;font-weight: bold;display: inline-block;line-height: 1.2em;}#sk-container-id-1 div.sk-label-container {text-align: center;}#sk-container-id-1 div.sk-container {/* jupyter's `normalize.less` sets `[hidden] { display: none; }` but bootstrap.min.css set `[hidden] { display: none !important; }` so we also need the `!important` here to be able to override the default hidden behavior on the sphinx rendered scikit-learn.org. See: https://github.com/scikit-learn/scikit-learn/issues/21755 */display: inline-block !important;position: relative;}#sk-container-id-1 div.sk-text-repr-fallback {display: none;}</style><div id=\"sk-container-id-1\" class=\"sk-top-container\"><div class=\"sk-text-repr-fallback\"><pre>SVC(kernel=&#x27;linear&#x27;)</pre><b>In a Jupyter environment, please rerun this cell to show the HTML representation or trust the notebook. <br />On GitHub, the HTML representation is unable to render, please try loading this page with nbviewer.org.</b></div><div class=\"sk-container\" hidden><div class=\"sk-item\"><div class=\"sk-estimator sk-toggleable\"><input class=\"sk-toggleable__control sk-hidden--visually\" id=\"sk-estimator-id-1\" type=\"checkbox\" checked><label for=\"sk-estimator-id-1\" class=\"sk-toggleable__label sk-toggleable__label-arrow\">SVC</label><div class=\"sk-toggleable__content\"><pre>SVC(kernel=&#x27;linear&#x27;)</pre></div></div></div></div></div>"
            ]
          },
          "metadata": {},
          "execution_count": 20
        }
      ]
    },
    {
      "cell_type": "code",
      "source": [
        "predictions = svm_classifier.predict(X_test)"
      ],
      "metadata": {
        "id": "wr0b9ArYO_mN"
      },
      "execution_count": 21,
      "outputs": []
    },
    {
      "cell_type": "code",
      "source": [
        "accuracy = accuracy_score(y_test, predictions)\n",
        "print(\"Accuracy:\", accuracy)"
      ],
      "metadata": {
        "colab": {
          "base_uri": "https://localhost:8080/"
        },
        "id": "LU3UaLQsPCa3",
        "outputId": "44b00166-2609-49db-cd69-316a0c7c978e"
      },
      "execution_count": 22,
      "outputs": [
        {
          "output_type": "stream",
          "name": "stdout",
          "text": [
            "Accuracy: 0.5857142857142857\n"
          ]
        }
      ]
    },
    {
      "cell_type": "code",
      "source": [
        "report = classification_report(y_test, predictions)\n",
        "print(\"Classification Report:\\n\", report)"
      ],
      "metadata": {
        "colab": {
          "base_uri": "https://localhost:8080/"
        },
        "id": "B4lc5oCoPGSV",
        "outputId": "8f10a748-0560-4c30-b1e1-397805c0f37d"
      },
      "execution_count": 23,
      "outputs": [
        {
          "output_type": "stream",
          "name": "stdout",
          "text": [
            "Classification Report:\n",
            "                    precision    recall  f1-score   support\n",
            "\n",
            "DECEPTIVENEGATIVE       0.67      0.57      0.61        69\n",
            "DECEPTIVEPOSITIVE       0.51      0.57      0.54        61\n",
            " TRUTHFULNEGATIVE       0.55      0.71      0.62        73\n",
            " TRUTHFULPOSITIVE       0.63      0.49      0.55        77\n",
            "\n",
            "         accuracy                           0.59       280\n",
            "        macro avg       0.59      0.59      0.58       280\n",
            "     weighted avg       0.60      0.59      0.58       280\n",
            "\n"
          ]
        }
      ]
    },
    {
      "cell_type": "code",
      "source": [
        "for i in range(len(predictions)):\n",
        "    print(f\"Predicted: {predictions[i]}, Actual: {y_test[i]}\")"
      ],
      "metadata": {
        "colab": {
          "base_uri": "https://localhost:8080/"
        },
        "id": "w0p4s6FHPQQK",
        "outputId": "a8e5f641-c2ca-498f-8f2c-644b8fac9cc2"
      },
      "execution_count": 24,
      "outputs": [
        {
          "output_type": "stream",
          "name": "stdout",
          "text": [
            "Predicted: TRUTHFULNEGATIVE, Actual: TRUTHFULNEGATIVE\n",
            "Predicted: TRUTHFULNEGATIVE, Actual: TRUTHFULNEGATIVE\n",
            "Predicted: DECEPTIVEPOSITIVE, Actual: DECEPTIVEPOSITIVE\n",
            "Predicted: TRUTHFULPOSITIVE, Actual: TRUTHFULPOSITIVE\n",
            "Predicted: TRUTHFULPOSITIVE, Actual: DECEPTIVENEGATIVE\n",
            "Predicted: DECEPTIVENEGATIVE, Actual: TRUTHFULNEGATIVE\n",
            "Predicted: TRUTHFULNEGATIVE, Actual: TRUTHFULPOSITIVE\n",
            "Predicted: TRUTHFULNEGATIVE, Actual: DECEPTIVENEGATIVE\n",
            "Predicted: TRUTHFULNEGATIVE, Actual: DECEPTIVENEGATIVE\n",
            "Predicted: TRUTHFULNEGATIVE, Actual: DECEPTIVEPOSITIVE\n",
            "Predicted: DECEPTIVEPOSITIVE, Actual: DECEPTIVEPOSITIVE\n",
            "Predicted: TRUTHFULNEGATIVE, Actual: TRUTHFULNEGATIVE\n",
            "Predicted: TRUTHFULNEGATIVE, Actual: TRUTHFULPOSITIVE\n",
            "Predicted: DECEPTIVEPOSITIVE, Actual: DECEPTIVENEGATIVE\n",
            "Predicted: TRUTHFULNEGATIVE, Actual: TRUTHFULNEGATIVE\n",
            "Predicted: DECEPTIVEPOSITIVE, Actual: DECEPTIVEPOSITIVE\n",
            "Predicted: DECEPTIVENEGATIVE, Actual: DECEPTIVENEGATIVE\n",
            "Predicted: TRUTHFULNEGATIVE, Actual: DECEPTIVENEGATIVE\n",
            "Predicted: TRUTHFULPOSITIVE, Actual: TRUTHFULPOSITIVE\n",
            "Predicted: TRUTHFULPOSITIVE, Actual: TRUTHFULPOSITIVE\n",
            "Predicted: TRUTHFULPOSITIVE, Actual: TRUTHFULPOSITIVE\n",
            "Predicted: TRUTHFULNEGATIVE, Actual: TRUTHFULPOSITIVE\n",
            "Predicted: TRUTHFULNEGATIVE, Actual: DECEPTIVENEGATIVE\n",
            "Predicted: TRUTHFULPOSITIVE, Actual: TRUTHFULPOSITIVE\n",
            "Predicted: TRUTHFULNEGATIVE, Actual: TRUTHFULNEGATIVE\n",
            "Predicted: DECEPTIVEPOSITIVE, Actual: TRUTHFULPOSITIVE\n",
            "Predicted: DECEPTIVEPOSITIVE, Actual: DECEPTIVENEGATIVE\n",
            "Predicted: TRUTHFULNEGATIVE, Actual: TRUTHFULNEGATIVE\n",
            "Predicted: TRUTHFULNEGATIVE, Actual: TRUTHFULNEGATIVE\n",
            "Predicted: DECEPTIVENEGATIVE, Actual: TRUTHFULPOSITIVE\n",
            "Predicted: TRUTHFULNEGATIVE, Actual: DECEPTIVEPOSITIVE\n",
            "Predicted: TRUTHFULPOSITIVE, Actual: DECEPTIVEPOSITIVE\n",
            "Predicted: DECEPTIVENEGATIVE, Actual: DECEPTIVENEGATIVE\n",
            "Predicted: DECEPTIVEPOSITIVE, Actual: TRUTHFULPOSITIVE\n",
            "Predicted: TRUTHFULPOSITIVE, Actual: TRUTHFULPOSITIVE\n",
            "Predicted: TRUTHFULNEGATIVE, Actual: TRUTHFULNEGATIVE\n",
            "Predicted: TRUTHFULNEGATIVE, Actual: TRUTHFULNEGATIVE\n",
            "Predicted: DECEPTIVEPOSITIVE, Actual: TRUTHFULPOSITIVE\n",
            "Predicted: TRUTHFULNEGATIVE, Actual: TRUTHFULNEGATIVE\n",
            "Predicted: DECEPTIVEPOSITIVE, Actual: DECEPTIVEPOSITIVE\n",
            "Predicted: TRUTHFULNEGATIVE, Actual: TRUTHFULNEGATIVE\n",
            "Predicted: TRUTHFULNEGATIVE, Actual: TRUTHFULNEGATIVE\n",
            "Predicted: DECEPTIVENEGATIVE, Actual: DECEPTIVEPOSITIVE\n",
            "Predicted: TRUTHFULNEGATIVE, Actual: TRUTHFULNEGATIVE\n",
            "Predicted: DECEPTIVENEGATIVE, Actual: DECEPTIVENEGATIVE\n",
            "Predicted: DECEPTIVENEGATIVE, Actual: DECEPTIVENEGATIVE\n",
            "Predicted: TRUTHFULNEGATIVE, Actual: TRUTHFULPOSITIVE\n",
            "Predicted: TRUTHFULNEGATIVE, Actual: TRUTHFULNEGATIVE\n",
            "Predicted: TRUTHFULPOSITIVE, Actual: TRUTHFULPOSITIVE\n",
            "Predicted: TRUTHFULNEGATIVE, Actual: DECEPTIVENEGATIVE\n",
            "Predicted: DECEPTIVENEGATIVE, Actual: DECEPTIVENEGATIVE\n",
            "Predicted: DECEPTIVEPOSITIVE, Actual: DECEPTIVEPOSITIVE\n",
            "Predicted: TRUTHFULPOSITIVE, Actual: TRUTHFULPOSITIVE\n",
            "Predicted: TRUTHFULNEGATIVE, Actual: TRUTHFULNEGATIVE\n",
            "Predicted: DECEPTIVENEGATIVE, Actual: DECEPTIVEPOSITIVE\n",
            "Predicted: TRUTHFULPOSITIVE, Actual: TRUTHFULPOSITIVE\n",
            "Predicted: DECEPTIVENEGATIVE, Actual: DECEPTIVENEGATIVE\n",
            "Predicted: DECEPTIVENEGATIVE, Actual: DECEPTIVENEGATIVE\n",
            "Predicted: DECEPTIVEPOSITIVE, Actual: DECEPTIVENEGATIVE\n",
            "Predicted: DECEPTIVEPOSITIVE, Actual: TRUTHFULNEGATIVE\n",
            "Predicted: TRUTHFULNEGATIVE, Actual: DECEPTIVEPOSITIVE\n",
            "Predicted: DECEPTIVEPOSITIVE, Actual: DECEPTIVEPOSITIVE\n",
            "Predicted: TRUTHFULNEGATIVE, Actual: TRUTHFULNEGATIVE\n",
            "Predicted: DECEPTIVENEGATIVE, Actual: DECEPTIVENEGATIVE\n",
            "Predicted: TRUTHFULPOSITIVE, Actual: DECEPTIVEPOSITIVE\n",
            "Predicted: DECEPTIVEPOSITIVE, Actual: TRUTHFULPOSITIVE\n",
            "Predicted: DECEPTIVEPOSITIVE, Actual: TRUTHFULPOSITIVE\n",
            "Predicted: TRUTHFULPOSITIVE, Actual: DECEPTIVEPOSITIVE\n",
            "Predicted: DECEPTIVEPOSITIVE, Actual: DECEPTIVEPOSITIVE\n",
            "Predicted: DECEPTIVENEGATIVE, Actual: TRUTHFULNEGATIVE\n",
            "Predicted: TRUTHFULNEGATIVE, Actual: TRUTHFULNEGATIVE\n",
            "Predicted: DECEPTIVEPOSITIVE, Actual: DECEPTIVEPOSITIVE\n",
            "Predicted: TRUTHFULNEGATIVE, Actual: TRUTHFULPOSITIVE\n",
            "Predicted: DECEPTIVENEGATIVE, Actual: TRUTHFULNEGATIVE\n",
            "Predicted: DECEPTIVEPOSITIVE, Actual: TRUTHFULPOSITIVE\n",
            "Predicted: TRUTHFULNEGATIVE, Actual: TRUTHFULNEGATIVE\n",
            "Predicted: DECEPTIVENEGATIVE, Actual: TRUTHFULNEGATIVE\n",
            "Predicted: TRUTHFULPOSITIVE, Actual: TRUTHFULPOSITIVE\n",
            "Predicted: TRUTHFULPOSITIVE, Actual: TRUTHFULPOSITIVE\n",
            "Predicted: TRUTHFULNEGATIVE, Actual: TRUTHFULPOSITIVE\n",
            "Predicted: TRUTHFULNEGATIVE, Actual: DECEPTIVEPOSITIVE\n",
            "Predicted: TRUTHFULNEGATIVE, Actual: TRUTHFULPOSITIVE\n",
            "Predicted: TRUTHFULPOSITIVE, Actual: TRUTHFULPOSITIVE\n",
            "Predicted: DECEPTIVENEGATIVE, Actual: DECEPTIVENEGATIVE\n",
            "Predicted: TRUTHFULPOSITIVE, Actual: TRUTHFULPOSITIVE\n",
            "Predicted: TRUTHFULPOSITIVE, Actual: TRUTHFULPOSITIVE\n",
            "Predicted: TRUTHFULNEGATIVE, Actual: TRUTHFULNEGATIVE\n",
            "Predicted: DECEPTIVEPOSITIVE, Actual: DECEPTIVENEGATIVE\n",
            "Predicted: DECEPTIVENEGATIVE, Actual: DECEPTIVENEGATIVE\n",
            "Predicted: TRUTHFULPOSITIVE, Actual: TRUTHFULPOSITIVE\n",
            "Predicted: TRUTHFULNEGATIVE, Actual: DECEPTIVENEGATIVE\n",
            "Predicted: TRUTHFULNEGATIVE, Actual: DECEPTIVEPOSITIVE\n",
            "Predicted: DECEPTIVENEGATIVE, Actual: TRUTHFULNEGATIVE\n",
            "Predicted: TRUTHFULNEGATIVE, Actual: TRUTHFULNEGATIVE\n",
            "Predicted: TRUTHFULNEGATIVE, Actual: TRUTHFULNEGATIVE\n",
            "Predicted: DECEPTIVEPOSITIVE, Actual: TRUTHFULPOSITIVE\n",
            "Predicted: TRUTHFULNEGATIVE, Actual: TRUTHFULNEGATIVE\n",
            "Predicted: DECEPTIVEPOSITIVE, Actual: DECEPTIVEPOSITIVE\n",
            "Predicted: TRUTHFULNEGATIVE, Actual: TRUTHFULNEGATIVE\n",
            "Predicted: TRUTHFULNEGATIVE, Actual: TRUTHFULNEGATIVE\n",
            "Predicted: TRUTHFULNEGATIVE, Actual: TRUTHFULNEGATIVE\n",
            "Predicted: DECEPTIVEPOSITIVE, Actual: TRUTHFULPOSITIVE\n",
            "Predicted: TRUTHFULPOSITIVE, Actual: DECEPTIVEPOSITIVE\n",
            "Predicted: TRUTHFULNEGATIVE, Actual: TRUTHFULPOSITIVE\n",
            "Predicted: TRUTHFULPOSITIVE, Actual: TRUTHFULPOSITIVE\n",
            "Predicted: DECEPTIVENEGATIVE, Actual: DECEPTIVENEGATIVE\n",
            "Predicted: DECEPTIVENEGATIVE, Actual: DECEPTIVENEGATIVE\n",
            "Predicted: DECEPTIVENEGATIVE, Actual: DECEPTIVENEGATIVE\n",
            "Predicted: TRUTHFULNEGATIVE, Actual: TRUTHFULNEGATIVE\n",
            "Predicted: TRUTHFULPOSITIVE, Actual: DECEPTIVEPOSITIVE\n",
            "Predicted: DECEPTIVEPOSITIVE, Actual: TRUTHFULPOSITIVE\n",
            "Predicted: DECEPTIVENEGATIVE, Actual: DECEPTIVENEGATIVE\n",
            "Predicted: TRUTHFULPOSITIVE, Actual: DECEPTIVEPOSITIVE\n",
            "Predicted: DECEPTIVENEGATIVE, Actual: DECEPTIVENEGATIVE\n",
            "Predicted: TRUTHFULNEGATIVE, Actual: DECEPTIVENEGATIVE\n",
            "Predicted: DECEPTIVEPOSITIVE, Actual: DECEPTIVEPOSITIVE\n",
            "Predicted: DECEPTIVEPOSITIVE, Actual: TRUTHFULNEGATIVE\n",
            "Predicted: DECEPTIVEPOSITIVE, Actual: DECEPTIVEPOSITIVE\n",
            "Predicted: TRUTHFULPOSITIVE, Actual: DECEPTIVEPOSITIVE\n",
            "Predicted: DECEPTIVENEGATIVE, Actual: DECEPTIVENEGATIVE\n",
            "Predicted: DECEPTIVEPOSITIVE, Actual: DECEPTIVENEGATIVE\n",
            "Predicted: TRUTHFULNEGATIVE, Actual: DECEPTIVEPOSITIVE\n",
            "Predicted: DECEPTIVENEGATIVE, Actual: TRUTHFULNEGATIVE\n",
            "Predicted: DECEPTIVENEGATIVE, Actual: DECEPTIVENEGATIVE\n",
            "Predicted: DECEPTIVENEGATIVE, Actual: DECEPTIVENEGATIVE\n",
            "Predicted: DECEPTIVEPOSITIVE, Actual: DECEPTIVEPOSITIVE\n",
            "Predicted: TRUTHFULNEGATIVE, Actual: TRUTHFULNEGATIVE\n",
            "Predicted: TRUTHFULNEGATIVE, Actual: TRUTHFULPOSITIVE\n",
            "Predicted: DECEPTIVENEGATIVE, Actual: DECEPTIVENEGATIVE\n",
            "Predicted: TRUTHFULNEGATIVE, Actual: TRUTHFULPOSITIVE\n",
            "Predicted: DECEPTIVEPOSITIVE, Actual: DECEPTIVEPOSITIVE\n",
            "Predicted: DECEPTIVEPOSITIVE, Actual: DECEPTIVEPOSITIVE\n",
            "Predicted: TRUTHFULNEGATIVE, Actual: TRUTHFULNEGATIVE\n",
            "Predicted: DECEPTIVEPOSITIVE, Actual: DECEPTIVEPOSITIVE\n",
            "Predicted: TRUTHFULNEGATIVE, Actual: TRUTHFULPOSITIVE\n",
            "Predicted: DECEPTIVEPOSITIVE, Actual: TRUTHFULNEGATIVE\n",
            "Predicted: TRUTHFULNEGATIVE, Actual: TRUTHFULNEGATIVE\n",
            "Predicted: TRUTHFULNEGATIVE, Actual: DECEPTIVENEGATIVE\n",
            "Predicted: TRUTHFULPOSITIVE, Actual: TRUTHFULPOSITIVE\n",
            "Predicted: DECEPTIVENEGATIVE, Actual: DECEPTIVENEGATIVE\n",
            "Predicted: TRUTHFULNEGATIVE, Actual: DECEPTIVENEGATIVE\n",
            "Predicted: DECEPTIVEPOSITIVE, Actual: DECEPTIVEPOSITIVE\n",
            "Predicted: DECEPTIVEPOSITIVE, Actual: DECEPTIVENEGATIVE\n",
            "Predicted: TRUTHFULNEGATIVE, Actual: TRUTHFULNEGATIVE\n",
            "Predicted: DECEPTIVENEGATIVE, Actual: TRUTHFULNEGATIVE\n",
            "Predicted: TRUTHFULPOSITIVE, Actual: TRUTHFULPOSITIVE\n",
            "Predicted: DECEPTIVENEGATIVE, Actual: DECEPTIVENEGATIVE\n",
            "Predicted: TRUTHFULNEGATIVE, Actual: TRUTHFULNEGATIVE\n",
            "Predicted: TRUTHFULPOSITIVE, Actual: DECEPTIVENEGATIVE\n",
            "Predicted: TRUTHFULNEGATIVE, Actual: TRUTHFULNEGATIVE\n",
            "Predicted: TRUTHFULPOSITIVE, Actual: TRUTHFULPOSITIVE\n",
            "Predicted: DECEPTIVENEGATIVE, Actual: TRUTHFULNEGATIVE\n",
            "Predicted: TRUTHFULNEGATIVE, Actual: TRUTHFULNEGATIVE\n",
            "Predicted: DECEPTIVEPOSITIVE, Actual: DECEPTIVEPOSITIVE\n",
            "Predicted: TRUTHFULNEGATIVE, Actual: TRUTHFULNEGATIVE\n",
            "Predicted: DECEPTIVEPOSITIVE, Actual: DECEPTIVEPOSITIVE\n",
            "Predicted: TRUTHFULNEGATIVE, Actual: TRUTHFULNEGATIVE\n",
            "Predicted: TRUTHFULPOSITIVE, Actual: TRUTHFULNEGATIVE\n",
            "Predicted: DECEPTIVENEGATIVE, Actual: TRUTHFULPOSITIVE\n",
            "Predicted: TRUTHFULNEGATIVE, Actual: TRUTHFULNEGATIVE\n",
            "Predicted: DECEPTIVEPOSITIVE, Actual: DECEPTIVEPOSITIVE\n",
            "Predicted: TRUTHFULNEGATIVE, Actual: DECEPTIVENEGATIVE\n",
            "Predicted: DECEPTIVEPOSITIVE, Actual: DECEPTIVEPOSITIVE\n",
            "Predicted: TRUTHFULNEGATIVE, Actual: DECEPTIVENEGATIVE\n",
            "Predicted: DECEPTIVENEGATIVE, Actual: DECEPTIVENEGATIVE\n",
            "Predicted: TRUTHFULPOSITIVE, Actual: TRUTHFULPOSITIVE\n",
            "Predicted: TRUTHFULNEGATIVE, Actual: TRUTHFULNEGATIVE\n",
            "Predicted: DECEPTIVENEGATIVE, Actual: DECEPTIVENEGATIVE\n",
            "Predicted: TRUTHFULPOSITIVE, Actual: TRUTHFULPOSITIVE\n",
            "Predicted: TRUTHFULNEGATIVE, Actual: TRUTHFULNEGATIVE\n",
            "Predicted: TRUTHFULNEGATIVE, Actual: TRUTHFULNEGATIVE\n",
            "Predicted: TRUTHFULNEGATIVE, Actual: TRUTHFULNEGATIVE\n",
            "Predicted: TRUTHFULPOSITIVE, Actual: TRUTHFULPOSITIVE\n",
            "Predicted: DECEPTIVEPOSITIVE, Actual: DECEPTIVEPOSITIVE\n",
            "Predicted: DECEPTIVEPOSITIVE, Actual: TRUTHFULPOSITIVE\n",
            "Predicted: TRUTHFULPOSITIVE, Actual: TRUTHFULNEGATIVE\n",
            "Predicted: DECEPTIVEPOSITIVE, Actual: DECEPTIVEPOSITIVE\n",
            "Predicted: TRUTHFULPOSITIVE, Actual: TRUTHFULPOSITIVE\n",
            "Predicted: DECEPTIVENEGATIVE, Actual: DECEPTIVEPOSITIVE\n",
            "Predicted: DECEPTIVEPOSITIVE, Actual: DECEPTIVEPOSITIVE\n",
            "Predicted: DECEPTIVEPOSITIVE, Actual: DECEPTIVEPOSITIVE\n",
            "Predicted: DECEPTIVENEGATIVE, Actual: DECEPTIVENEGATIVE\n",
            "Predicted: TRUTHFULNEGATIVE, Actual: DECEPTIVENEGATIVE\n",
            "Predicted: DECEPTIVENEGATIVE, Actual: DECEPTIVENEGATIVE\n",
            "Predicted: DECEPTIVEPOSITIVE, Actual: TRUTHFULPOSITIVE\n",
            "Predicted: TRUTHFULNEGATIVE, Actual: TRUTHFULPOSITIVE\n",
            "Predicted: DECEPTIVENEGATIVE, Actual: TRUTHFULPOSITIVE\n",
            "Predicted: TRUTHFULNEGATIVE, Actual: TRUTHFULNEGATIVE\n",
            "Predicted: DECEPTIVENEGATIVE, Actual: DECEPTIVENEGATIVE\n",
            "Predicted: DECEPTIVENEGATIVE, Actual: DECEPTIVENEGATIVE\n",
            "Predicted: DECEPTIVENEGATIVE, Actual: DECEPTIVENEGATIVE\n",
            "Predicted: TRUTHFULPOSITIVE, Actual: DECEPTIVEPOSITIVE\n",
            "Predicted: TRUTHFULNEGATIVE, Actual: TRUTHFULNEGATIVE\n",
            "Predicted: TRUTHFULPOSITIVE, Actual: TRUTHFULPOSITIVE\n",
            "Predicted: TRUTHFULNEGATIVE, Actual: DECEPTIVENEGATIVE\n",
            "Predicted: DECEPTIVEPOSITIVE, Actual: DECEPTIVEPOSITIVE\n",
            "Predicted: TRUTHFULPOSITIVE, Actual: TRUTHFULPOSITIVE\n",
            "Predicted: DECEPTIVENEGATIVE, Actual: DECEPTIVENEGATIVE\n",
            "Predicted: DECEPTIVENEGATIVE, Actual: DECEPTIVENEGATIVE\n",
            "Predicted: TRUTHFULPOSITIVE, Actual: TRUTHFULNEGATIVE\n",
            "Predicted: DECEPTIVEPOSITIVE, Actual: DECEPTIVEPOSITIVE\n",
            "Predicted: DECEPTIVEPOSITIVE, Actual: TRUTHFULPOSITIVE\n",
            "Predicted: TRUTHFULPOSITIVE, Actual: TRUTHFULPOSITIVE\n",
            "Predicted: DECEPTIVENEGATIVE, Actual: TRUTHFULNEGATIVE\n",
            "Predicted: DECEPTIVENEGATIVE, Actual: DECEPTIVENEGATIVE\n",
            "Predicted: TRUTHFULPOSITIVE, Actual: TRUTHFULPOSITIVE\n",
            "Predicted: TRUTHFULPOSITIVE, Actual: TRUTHFULPOSITIVE\n",
            "Predicted: DECEPTIVENEGATIVE, Actual: DECEPTIVENEGATIVE\n",
            "Predicted: TRUTHFULPOSITIVE, Actual: DECEPTIVEPOSITIVE\n",
            "Predicted: TRUTHFULPOSITIVE, Actual: TRUTHFULPOSITIVE\n",
            "Predicted: DECEPTIVEPOSITIVE, Actual: DECEPTIVENEGATIVE\n",
            "Predicted: TRUTHFULNEGATIVE, Actual: TRUTHFULPOSITIVE\n",
            "Predicted: TRUTHFULPOSITIVE, Actual: DECEPTIVEPOSITIVE\n",
            "Predicted: DECEPTIVEPOSITIVE, Actual: DECEPTIVEPOSITIVE\n",
            "Predicted: TRUTHFULNEGATIVE, Actual: DECEPTIVEPOSITIVE\n",
            "Predicted: TRUTHFULNEGATIVE, Actual: TRUTHFULNEGATIVE\n",
            "Predicted: DECEPTIVENEGATIVE, Actual: DECEPTIVENEGATIVE\n",
            "Predicted: TRUTHFULPOSITIVE, Actual: TRUTHFULPOSITIVE\n",
            "Predicted: TRUTHFULNEGATIVE, Actual: TRUTHFULPOSITIVE\n",
            "Predicted: TRUTHFULNEGATIVE, Actual: TRUTHFULNEGATIVE\n",
            "Predicted: TRUTHFULNEGATIVE, Actual: DECEPTIVENEGATIVE\n",
            "Predicted: DECEPTIVEPOSITIVE, Actual: TRUTHFULPOSITIVE\n",
            "Predicted: DECEPTIVEPOSITIVE, Actual: DECEPTIVEPOSITIVE\n",
            "Predicted: DECEPTIVENEGATIVE, Actual: DECEPTIVEPOSITIVE\n",
            "Predicted: TRUTHFULNEGATIVE, Actual: TRUTHFULNEGATIVE\n",
            "Predicted: DECEPTIVEPOSITIVE, Actual: DECEPTIVENEGATIVE\n",
            "Predicted: TRUTHFULPOSITIVE, Actual: TRUTHFULPOSITIVE\n",
            "Predicted: DECEPTIVEPOSITIVE, Actual: TRUTHFULPOSITIVE\n",
            "Predicted: TRUTHFULPOSITIVE, Actual: TRUTHFULNEGATIVE\n",
            "Predicted: TRUTHFULNEGATIVE, Actual: TRUTHFULNEGATIVE\n",
            "Predicted: DECEPTIVENEGATIVE, Actual: DECEPTIVENEGATIVE\n",
            "Predicted: TRUTHFULPOSITIVE, Actual: TRUTHFULPOSITIVE\n",
            "Predicted: TRUTHFULNEGATIVE, Actual: DECEPTIVENEGATIVE\n",
            "Predicted: TRUTHFULPOSITIVE, Actual: TRUTHFULPOSITIVE\n",
            "Predicted: TRUTHFULNEGATIVE, Actual: TRUTHFULPOSITIVE\n",
            "Predicted: TRUTHFULNEGATIVE, Actual: TRUTHFULNEGATIVE\n",
            "Predicted: DECEPTIVEPOSITIVE, Actual: TRUTHFULPOSITIVE\n",
            "Predicted: DECEPTIVEPOSITIVE, Actual: DECEPTIVEPOSITIVE\n",
            "Predicted: TRUTHFULPOSITIVE, Actual: TRUTHFULPOSITIVE\n",
            "Predicted: DECEPTIVEPOSITIVE, Actual: DECEPTIVEPOSITIVE\n",
            "Predicted: TRUTHFULNEGATIVE, Actual: DECEPTIVENEGATIVE\n",
            "Predicted: TRUTHFULPOSITIVE, Actual: DECEPTIVEPOSITIVE\n",
            "Predicted: DECEPTIVEPOSITIVE, Actual: DECEPTIVENEGATIVE\n",
            "Predicted: DECEPTIVEPOSITIVE, Actual: DECEPTIVEPOSITIVE\n",
            "Predicted: DECEPTIVEPOSITIVE, Actual: TRUTHFULPOSITIVE\n",
            "Predicted: TRUTHFULPOSITIVE, Actual: DECEPTIVEPOSITIVE\n",
            "Predicted: TRUTHFULNEGATIVE, Actual: DECEPTIVENEGATIVE\n",
            "Predicted: DECEPTIVENEGATIVE, Actual: TRUTHFULNEGATIVE\n",
            "Predicted: TRUTHFULNEGATIVE, Actual: TRUTHFULNEGATIVE\n",
            "Predicted: DECEPTIVEPOSITIVE, Actual: TRUTHFULPOSITIVE\n",
            "Predicted: TRUTHFULNEGATIVE, Actual: DECEPTIVENEGATIVE\n",
            "Predicted: DECEPTIVEPOSITIVE, Actual: TRUTHFULPOSITIVE\n",
            "Predicted: DECEPTIVEPOSITIVE, Actual: TRUTHFULNEGATIVE\n",
            "Predicted: DECEPTIVEPOSITIVE, Actual: DECEPTIVEPOSITIVE\n",
            "Predicted: DECEPTIVENEGATIVE, Actual: TRUTHFULNEGATIVE\n",
            "Predicted: DECEPTIVEPOSITIVE, Actual: TRUTHFULPOSITIVE\n",
            "Predicted: DECEPTIVEPOSITIVE, Actual: DECEPTIVEPOSITIVE\n",
            "Predicted: TRUTHFULPOSITIVE, Actual: DECEPTIVEPOSITIVE\n",
            "Predicted: DECEPTIVENEGATIVE, Actual: DECEPTIVENEGATIVE\n",
            "Predicted: DECEPTIVENEGATIVE, Actual: DECEPTIVENEGATIVE\n",
            "Predicted: DECEPTIVENEGATIVE, Actual: DECEPTIVENEGATIVE\n",
            "Predicted: TRUTHFULPOSITIVE, Actual: TRUTHFULPOSITIVE\n",
            "Predicted: TRUTHFULNEGATIVE, Actual: TRUTHFULNEGATIVE\n",
            "Predicted: TRUTHFULNEGATIVE, Actual: TRUTHFULNEGATIVE\n",
            "Predicted: TRUTHFULPOSITIVE, Actual: TRUTHFULPOSITIVE\n",
            "Predicted: TRUTHFULPOSITIVE, Actual: DECEPTIVEPOSITIVE\n",
            "Predicted: DECEPTIVEPOSITIVE, Actual: TRUTHFULPOSITIVE\n",
            "Predicted: TRUTHFULPOSITIVE, Actual: DECEPTIVEPOSITIVE\n",
            "Predicted: TRUTHFULNEGATIVE, Actual: TRUTHFULNEGATIVE\n",
            "Predicted: TRUTHFULPOSITIVE, Actual: TRUTHFULPOSITIVE\n",
            "Predicted: TRUTHFULNEGATIVE, Actual: DECEPTIVENEGATIVE\n",
            "Predicted: DECEPTIVENEGATIVE, Actual: DECEPTIVENEGATIVE\n",
            "Predicted: DECEPTIVENEGATIVE, Actual: DECEPTIVENEGATIVE\n",
            "Predicted: TRUTHFULNEGATIVE, Actual: TRUTHFULPOSITIVE\n",
            "Predicted: DECEPTIVEPOSITIVE, Actual: DECEPTIVEPOSITIVE\n",
            "Predicted: DECEPTIVENEGATIVE, Actual: TRUTHFULNEGATIVE\n",
            "Predicted: TRUTHFULPOSITIVE, Actual: TRUTHFULPOSITIVE\n",
            "Predicted: TRUTHFULNEGATIVE, Actual: TRUTHFULNEGATIVE\n",
            "Predicted: TRUTHFULPOSITIVE, Actual: TRUTHFULNEGATIVE\n",
            "Predicted: DECEPTIVEPOSITIVE, Actual: DECEPTIVEPOSITIVE\n"
          ]
        }
      ]
    },
    {
      "cell_type": "code",
      "source": [],
      "metadata": {
        "id": "IX29Ya5cPuUo"
      },
      "execution_count": null,
      "outputs": []
    }
  ]
}